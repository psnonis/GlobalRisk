{
 "cells": [
  {
   "cell_type": "code",
   "execution_count": 4,
   "metadata": {},
   "outputs": [
    {
     "name": "stdout",
     "output_type": "stream",
     "text": [
      "                 High        Low       Open      Close      Volume  Adj Close\n",
      "Date                                                                         \n",
      "2000-09-01  41.437500  40.875000  41.000000  41.250000   8084800.0  23.462715\n",
      "2000-09-05  41.750000  41.281250  41.562500  41.687500  11928200.0  23.711580\n",
      "2000-09-06  42.031250  41.500000  41.781250  41.500000  11893200.0  23.604916\n",
      "2000-09-07  42.093750  41.750000  41.750000  41.875000   7297400.0  23.818224\n",
      "2000-09-08  41.750000  41.125000  41.531250  41.750000   9289800.0  23.747116\n",
      "...               ...        ...        ...        ...         ...        ...\n",
      "2020-04-03  42.180000  38.520000  41.450001  39.209999  48425700.0  39.209999\n",
      "2020-04-06  40.830002  39.230000  39.880001  40.470001  41301900.0  40.470001\n",
      "2020-04-07  43.320000  41.160000  42.900002  41.240002  48921800.0  41.240002\n",
      "2020-04-08  44.040001  41.470001  41.950001  43.849998  33259300.0  43.849998\n",
      "2020-04-09  46.709999  41.740002  45.459999  43.130001  58739147.0  43.130001\n",
      "\n",
      "[4931 rows x 6 columns]\n"
     ]
    }
   ],
   "source": [
    "import plotly.graph_objects as go\n",
    "import pandas as pd\n",
    "import pandas_datareader as web\n",
    "import datetime\n",
    "\n",
    "def Fetch_Data(x):\n",
    "    now = datetime.datetime.now()\n",
    "    start = datetime.datetime(2000, 9, 1)\n",
    "    end = datetime.datetime(int(now.strftime(\"%Y\")), int(now.strftime(\"%m\")), int(now.strftime(\"%d\")))\n",
    "\n",
    "    df = web.DataReader(x, 'yahoo', start, end)\n",
    "    return df\n",
    "\n",
    "print(Fetch_Data('xom'))\n",
    "\n",
    "def Create_FinanceGraph(x):\n",
    "    #df = pd.read_csv(f'../data/Curated/'+str(x)+'.csv')\n",
    "    df = Fetch_Data(x)\n",
    "    #dfdow = pd.read_csv(f'../data/Curated/DOW.csv')\n",
    "    dfdow = Fetch_Data('^dji')\n",
    "    \n",
    "    df['percent'] = df['High']/df['High'].max()\n",
    "\n",
    "\n",
    "    dfdow['percent'] = dfdow['High']/dfdow['High'].max()\n",
    "    fig = go.Figure()\n",
    "    fig.add_trace(go.Scatter(x=df.index, y=df['percent'], name=str(x),\n",
    "                         line_color='deepskyblue'))\n",
    "\n",
    "    fig.add_trace(go.Scatter(x=dfdow.index, y=dfdow['percent'], name=\"DOW\",\n",
    "                         line_color='dimgray'))\n",
    "    \n",
    "    \n",
    "    ma_full = pd.read_csv(f'../data/Curated/Corporate_Timeline.csv')\n",
    "    target = ma_full['Entity'] == x\n",
    "    ma = ma_full[target]\n",
    "    ma['Date'] = ma['Closed Date'].astype('datetime64[ns]') \n",
    "    ma['Position'] = 0\n",
    "    ma['Size'] = (pd.to_numeric(ma['Size ($mm)'].replace(',','', regex=True)))\n",
    "    ma['RelSize'] = (ma['Size']+ma['Size'].max())/ma['Size'].max()*10\n",
    "    \n",
    "    fig.add_trace(go.Scatter(x=ma['Date'], y=ma['Position'],text=ma['Target']+\": $\"+ma['Size ($mm)'],hoverinfo='text',\n",
    "                    mode='markers', marker=dict(color='Green', size=ma['RelSize']), name='Acquisitions'))\n",
    "    \n",
    "    fig.show()\n",
    "    fig.write_html('1_FinanceGraph.html')\n",
    "    \n",
    "#Create_FinanceGraph('ba')"
   ]
  },
  {
   "cell_type": "code",
   "execution_count": 42,
   "metadata": {},
   "outputs": [
    {
     "name": "stdout",
     "output_type": "stream",
     "text": [
      "Collecting pandas_datareader\n",
      "  Downloading pandas_datareader-0.8.1-py2.py3-none-any.whl (107 kB)\n",
      "\u001b[K     |████████████████████████████████| 107 kB 25.2 MB/s eta 0:00:01\n",
      "\u001b[?25hCollecting requests>=2.3.0\n",
      "  Downloading requests-2.23.0-py2.py3-none-any.whl (58 kB)\n",
      "\u001b[K     |████████████████████████████████| 58 kB 13.4 MB/s eta 0:00:01\n",
      "\u001b[?25hCollecting lxml\n",
      "  Downloading lxml-4.5.0-cp38-cp38-manylinux1_x86_64.whl (5.6 MB)\n",
      "\u001b[K     |████████████████████████████████| 5.6 MB 29.8 MB/s eta 0:00:01\n",
      "\u001b[?25hRequirement already satisfied: pandas>=0.21 in /opt/conda/envs/risk/lib/python3.8/site-packages (from pandas_datareader) (1.0.3)\n",
      "Collecting urllib3!=1.25.0,!=1.25.1,<1.26,>=1.21.1\n",
      "  Downloading urllib3-1.25.8-py2.py3-none-any.whl (125 kB)\n",
      "\u001b[K     |████████████████████████████████| 125 kB 45.8 MB/s eta 0:00:01\n",
      "\u001b[?25hRequirement already satisfied: certifi>=2017.4.17 in /opt/conda/envs/risk/lib/python3.8/site-packages (from requests>=2.3.0->pandas_datareader) (2019.11.28)\n",
      "Requirement already satisfied: idna<3,>=2.5 in /opt/conda/envs/risk/lib/python3.8/site-packages (from requests>=2.3.0->pandas_datareader) (2.9)\n",
      "Requirement already satisfied: chardet<4,>=3.0.2 in /opt/conda/envs/risk/lib/python3.8/site-packages (from requests>=2.3.0->pandas_datareader) (3.0.4)\n",
      "Requirement already satisfied: numpy>=1.13.3 in /opt/conda/envs/risk/lib/python3.8/site-packages (from pandas>=0.21->pandas_datareader) (1.18.1)\n",
      "Requirement already satisfied: pytz>=2017.2 in /opt/conda/envs/risk/lib/python3.8/site-packages (from pandas>=0.21->pandas_datareader) (2019.3)\n",
      "Requirement already satisfied: python-dateutil>=2.6.1 in /opt/conda/envs/risk/lib/python3.8/site-packages (from pandas>=0.21->pandas_datareader) (2.8.1)\n",
      "Requirement already satisfied: six>=1.5 in /opt/conda/envs/risk/lib/python3.8/site-packages (from python-dateutil>=2.6.1->pandas>=0.21->pandas_datareader) (1.14.0)\n",
      "Installing collected packages: urllib3, requests, lxml, pandas-datareader\n",
      "Successfully installed lxml-4.5.0 pandas-datareader-0.8.1 requests-2.23.0 urllib3-1.25.8\n"
     ]
    }
   ],
   "source": [
    "#!pip install pandas_datareader"
   ]
  },
  {
   "cell_type": "code",
   "execution_count": null,
   "metadata": {},
   "outputs": [],
   "source": []
  }
 ],
 "metadata": {
  "kernelspec": {
   "display_name": "Python 3",
   "language": "python",
   "name": "python3"
  },
  "language_info": {
   "codemirror_mode": {
    "name": "ipython",
    "version": 3
   },
   "file_extension": ".py",
   "mimetype": "text/x-python",
   "name": "python",
   "nbconvert_exporter": "python",
   "pygments_lexer": "ipython3",
   "version": "3.7.4"
  }
 },
 "nbformat": 4,
 "nbformat_minor": 4
}
