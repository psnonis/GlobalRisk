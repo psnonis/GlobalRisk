{
 "cells": [
  {
   "cell_type": "code",
   "execution_count": 12,
   "metadata": {},
   "outputs": [
    {
     "name": "stdout",
     "output_type": "stream",
     "text": [
      "  Transaction ID Announced Date  Closed Date    Transaction Type   Role  \\\n",
      "0  IQTR630916104    Jul-25-2019  Dec-02-2019  Merger/Acquisition  Buyer   \n",
      "1  IQTR587466412    Oct-11-2018  Apr-08-2019  Merger/Acquisition  Buyer   \n",
      "2  IQTR546333558    Dec-11-2017  Sep-24-2018  Merger/Acquisition  Buyer   \n",
      "3  IQTR541460840    Oct-25-2017  Oct-25-2017  Merger/Acquisition  Buyer   \n",
      "4  IQTR431722117    May-13-2017  May-13-2017  Merger/Acquisition  Buyer   \n",
      "\n",
      "                                           Target             Buyer/Investors  \\\n",
      "0  Smartphone Modem Business of Intel Corporation  Apple Inc. (NasdaqGS:AAPL)   \n",
      "1      Certain Assets of Dialog Semiconductor Plc  Apple Inc. (NasdaqGS:AAPL)   \n",
      "2                    Shazam Entertainment Limited  Apple Inc. (NasdaqGS:AAPL)   \n",
      "3                            PowerbyProxi Limited  Apple Inc. (NasdaqGS:AAPL)   \n",
      "4                              Lattice Data, Inc.  Apple Inc. (NasdaqGS:AAPL)   \n",
      "\n",
      "                                             Sellers Rounds Round Type  \\\n",
      "0                  Intel Corporation (NasdaqGS:INTC)      -          -   \n",
      "1                Dialog Semiconductor Plc (XTRA:DLG)      -          -   \n",
      "2  Acacia Capital Partners; América Móvil, S.A.B....      -          -   \n",
      "3  Movac Limited; TE Connectivity Ltd. (NYSE:TEL)...      -          -   \n",
      "4     GV; In-Q-Tel, Inc.; Madrona Venture Group, LLC      -          -   \n",
      "\n",
      "  Pre-Money Valuation ($mm) Post-Money Valuation ($mm) Size ($mm)  \\\n",
      "0                         -                          -   1,000.00   \n",
      "1                         -                          -        300   \n",
      "2                         -                          -        400   \n",
      "3                         -                          -      68.71   \n",
      "4                         -                          -        200   \n",
      "\n",
      "  Aggregate Amount Raised ($mm)†  Duration       Date  \n",
      "0                              -         1 2019-12-02  \n",
      "1                              -         1 2019-04-08  \n",
      "2                              -         1 2018-09-24  \n",
      "3                              -         1 2017-10-25  \n",
      "4                              -         1 2017-05-13  \n"
     ]
    }
   ],
   "source": [
    "import plotly.graph_objects as go\n",
    "import pandas as pd\n",
    "import plotly.express as px\n",
    "\n",
    "def Create_MATimeline(x):\n",
    "    df = pd.read_csv(f'../data/Curated/Apple_Timeline.csv')\n",
    "    df['Date'] = df['Closed Date'].astype('datetime64[ns]') \n",
    "    print(df.head())\n",
    "    #fig = px.bar(df, x=\"Date\", y=\"Size ($mm)\",text=\"Target\")\n",
    "    #fig.show()\n",
    "    #fig.write_html('1_MATimeline.html')\n",
    "    \n",
    "Create_MATimeline('aapl')"
   ]
  },
  {
   "cell_type": "code",
   "execution_count": null,
   "metadata": {},
   "outputs": [],
   "source": []
  }
 ],
 "metadata": {
  "kernelspec": {
   "display_name": "Python 3",
   "language": "python",
   "name": "python3"
  },
  "language_info": {
   "codemirror_mode": {
    "name": "ipython",
    "version": 3
   },
   "file_extension": ".py",
   "mimetype": "text/x-python",
   "name": "python",
   "nbconvert_exporter": "python",
   "pygments_lexer": "ipython3",
   "version": "3.8.2"
  }
 },
 "nbformat": 4,
 "nbformat_minor": 4
}
