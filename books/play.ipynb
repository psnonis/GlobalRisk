{
 "cells": [
  {
   "cell_type": "code",
   "execution_count": 1,
   "metadata": {},
   "outputs": [
    {
     "name": "stdout",
     "output_type": "stream",
     "text": [
      "Imported Successfully\n"
     ]
    }
   ],
   "source": [
    "import xml.etree.ElementTree as ET\n",
    "import glob\n",
    "import numpy as np\n",
    "import random\n",
    "import string\n",
    "import csv\n",
    "import pandas as pd\n",
    "\n",
    "import bs4 as bs\n",
    "import urllib.request\n",
    "import re\n",
    "import pickle\n",
    "\n",
    "print(\"Imported Successfully\")"
   ]
  },
  {
   "cell_type": "code",
   "execution_count": 2,
   "metadata": {},
   "outputs": [],
   "source": [
    "def Load_CSV(f):\n",
    "    with open(f, 'r') as r:\n",
    "        S = [item.split(\",\")for item in r.readlines()]\n",
    "    return S\n",
    "\n"
   ]
  },
  {
   "cell_type": "code",
   "execution_count": 3,
   "metadata": {},
   "outputs": [],
   "source": [
    "import pandas_datareader as web\n",
    " \n",
    "#import datetime internal datetime module\n",
    "#datetime is a Python module\n",
    "import datetime\n",
    " \n",
    "#datetime.datetime is a data type within the datetime module\n",
    "start = datetime.datetime(2000, 9, 1)\n",
    "end = datetime.datetime(2020, 1, 31)\n",
    "\n",
    "#Ticker = ['aapl','wmt','dji']\n",
    "\n",
    "\n",
    "Ticker = ['^dji','^ixic']\n",
    "#DataReader method name is case sensitive\n",
    "for t in Ticker:\n",
    "    df = web.DataReader(t, 'yahoo', start, end)\n",
    "    df.to_csv(r'Curated\\\\'+t+'.csv',index=True, sep = ',')"
   ]
  },
  {
   "cell_type": "code",
   "execution_count": 20,
   "metadata": {},
   "outputs": [],
   "source": [
    "def Load_CSV(f):\n",
    "    with open(f, 'r') as r:\n",
    "        S = [item.split(\",\")for item in r.readlines()]\n",
    "    return S\n",
    "\n",
    "L = Load_CSV('Raw\\CountryData_ICRG-Risk.csv')\n",
    "\n",
    "Dataset = []\n",
    "L2 = [item[0] for item in L]\n",
    "for item in L2:\n",
    "    arr = item.split(\";\")\n",
    "    Dataset.append(arr)\n",
    "    \n",
    "\n",
    "Dataset.pop()\n",
    "Dataset.pop()\n",
    "\n",
    "D2 = []\n",
    "\n",
    "for item in Dataset:\n",
    "    if len(item) > 1:\n",
    "        D2.append(item)\n",
    "\n",
    "\n",
    "        \n",
    "CL = list(set([item[0] for item in D2]))\n",
    "\n",
    "\n",
    "RL = list(set([item[1] for item in D2]))\n",
    "\n",
    "#print(RL)\n",
    "    \n",
    "\n",
    "Att_List = [[item[0],item[1],item[-1]] for item in D2]\n",
    "\n",
    "Att1_List = [[item[0],item[1],item[2]] for item in D2]\n",
    "x = 2\n",
    "header = D2.pop(0)\n",
    "\n",
    "unp_list = []\n",
    "while x < len(header):\n",
    "    for item in D2:\n",
    "        unp_list.append([item[0],item[1],header[x],item[x]])\n",
    "    x += 1\n",
    "\n",
    "\n",
    "def Clean_List(L):\n",
    "    #lname = str(L)\n",
    "    df = pd.DataFrame(L)\n",
    "    df = df.replace('\"','', regex=True)\n",
    "    df = df.replace('','0', regex=True)\n",
    "    df.to_csv()\n",
    "    df.to_csv(r'Curated\\\\UNPclean.csv',index=False, sep = ',')\n",
    "\n",
    "Clean_List(unp_list)"
   ]
  },
  {
   "cell_type": "code",
   "execution_count": null,
   "metadata": {},
   "outputs": [],
   "source": []
  },
  {
   "cell_type": "code",
   "execution_count": null,
   "metadata": {},
   "outputs": [],
   "source": [
    "def Clean_CSV(f):\n",
    "    fname = f.split('\\\\')[-1].split('.')[0]\n",
    "    df = pd.read_csv(f)\n",
    "    df = df.replace('n.a.','0', regex=True)\n",
    "    df.to_csv()\n",
    "    df.to_csv(r'Curated\\\\'+fname+'clean.csv',index=False, sep = ',')\n",
    "             \n",
    "#Clean_CSV('Raw\\Orbis_CorporateGroup_Apple.csv')"
   ]
  },
  {
   "cell_type": "code",
   "execution_count": null,
   "metadata": {},
   "outputs": [],
   "source": []
  }
 ],
 "metadata": {
  "kernelspec": {
   "display_name": "Python 3",
   "language": "python",
   "name": "python3"
  },
  "language_info": {
   "codemirror_mode": {
    "name": "ipython",
    "version": 3
   },
   "file_extension": ".py",
   "mimetype": "text/x-python",
   "name": "python",
   "nbconvert_exporter": "python",
   "pygments_lexer": "ipython3",
   "version": "3.8.2"
  }
 },
 "nbformat": 4,
 "nbformat_minor": 4
}
